{
  "nbformat": 4,
  "nbformat_minor": 0,
  "metadata": {
    "colab": {
      "provenance": []
    },
    "kernelspec": {
      "name": "python3",
      "display_name": "Python 3"
    },
    "language_info": {
      "name": "python"
    }
  },
  "cells": [
    {
      "cell_type": "code",
      "source": [
        "1) what is python?\n",
        "->python is a high level,general-purpose programming language.\n",
        "like:creating websites,apps,games etc."
      ],
      "metadata": {
        "id": "wLtZfwlKG5OL"
      },
      "execution_count": null,
      "outputs": []
    },
    {
      "cell_type": "code",
      "source": [
        "2) what is programing?\n",
        "->programing in python means giving instructions to a computer using python\n",
        "language to create something,like apps,websites,or tools and solve problems"
      ],
      "metadata": {
        "id": "69oVbwYrG5AV"
      },
      "execution_count": null,
      "outputs": []
    },
    {
      "cell_type": "code",
      "execution_count": null,
      "metadata": {
        "id": "aZ6YAdrrExnk"
      },
      "outputs": [],
      "source": [
        "3) what are the types of applications?\n",
        "1# Web application            -websites and online tools.\n",
        "2# Desktop applications       -programs for computer like editors or games.\n",
        "3# Data application           -tools to analyze and visualize data.\n",
        "4#games application          -fun and interactive games for all platforms.\n",
        "5#AI and Machine Learning    -systems that learn and make decision\n",
        "6#Automation tools           -scripts to simplify repetitive tasks"
      ]
    },
    {
      "cell_type": "code",
      "source": [
        "4) write a python program to check if a number is positive,negative or zero.\n",
        "num=float(input(\"enter a num :\"))\n",
        "if num>0:\n",
        "  print(\"num is positive.\")\n",
        "elif num<0:\n",
        "  print(\"num is negative.\")\n",
        "else:\n",
        "  print(\"num is zero.\")"
      ],
      "metadata": {
        "colab": {
          "base_uri": "https://localhost:8080/"
        },
        "id": "m-MWt3aqPgAW",
        "outputId": "70833d59-263f-4cfb-ac9c-13abe92f48e7"
      },
      "execution_count": null,
      "outputs": [
        {
          "output_type": "stream",
          "name": "stdout",
          "text": [
            "enter a num :4\n",
            "num is positive.\n"
          ]
        }
      ]
    },
    {
      "cell_type": "markdown",
      "source": [
        "# write a python program to get the factorial number of given numbers."
      ],
      "metadata": {
        "id": "7iCO1bqqTf4L"
      }
    },
    {
      "cell_type": "code",
      "source": [
        "# factorial\n",
        "num=int(input(\"enter the num\"))\n",
        "fact=1\n",
        "for i in range(1,num+1):\n",
        "  fact=fact*i\n",
        "print(\"factorial of\",num,\"is\",fact)"
      ],
      "metadata": {
        "colab": {
          "base_uri": "https://localhost:8080/"
        },
        "id": "7aFmW1wqPiqo",
        "outputId": "34a579d4-7752-49e9-b742-41e8ad83a4bc"
      },
      "execution_count": null,
      "outputs": [
        {
          "output_type": "stream",
          "name": "stdout",
          "text": [
            "enter the num5\n",
            "factorial of 5 is 120\n"
          ]
        }
      ]
    },
    {
      "cell_type": "markdown",
      "source": [
        "#6 write a program  to get the fibonacci series of given range."
      ],
      "metadata": {
        "id": "dj5Qb7lMUgaR"
      }
    },
    {
      "cell_type": "code",
      "source": [
        "# fibonacci series\n",
        "num=int(input(\"enter the num\"))\n",
        "a,b=0,1\n",
        "i=0\n",
        "if num<0:\n",
        "  print(\"-ve num\")\n",
        "elif num==1:\n",
        "  print(a)\n",
        "else:\n",
        "  print(a)\n",
        "  print(b)\n",
        "  while(i<num):\n",
        "      c=a+b\n",
        "      print(c)\n",
        "      a=b\n",
        "      b=c\n",
        "      i+=1\n",
        "\n",
        "\n"
      ],
      "metadata": {
        "id": "b2dygPxxPjP4",
        "colab": {
          "base_uri": "https://localhost:8080/"
        },
        "outputId": "bf92b9b0-7a2d-4117-ac4e-64010fc52603"
      },
      "execution_count": null,
      "outputs": [
        {
          "output_type": "stream",
          "name": "stdout",
          "text": [
            "enter the num2\n",
            "0\n",
            "1\n",
            "1\n",
            "2\n"
          ]
        }
      ]
    },
    {
      "cell_type": "markdown",
      "source": [
        "#7 how memory is managed in python?"
      ],
      "metadata": {
        "id": "dM7-rb_vNx8C"
      }
    },
    {
      "cell_type": "code",
      "source": [
        "# In python, memory management is handled automatically by a system called garbage collection.\n",
        "\n",
        "1.objects and variables: when you create a variable, python stores its value as an object in memory.\n",
        "                          the variable acts as a label or reference to that object\n",
        "2.Reference counting:\n",
        "3.Garbage collector.\n",
        "4.Dynamic memory allocation."
      ],
      "metadata": {
        "id": "EreFUhtNPj1p"
      },
      "execution_count": null,
      "outputs": []
    },
    {
      "cell_type": "markdown",
      "source": [
        "#8 what is the purpose continuing statement in python?"
      ],
      "metadata": {
        "id": "mIQ17Xf1Q_9m"
      }
    },
    {
      "cell_type": "markdown",
      "source": [
        "-> the continue statement in python is used to skip the restthe current iteration in a loop and move to the next iteration.\n",
        "\n",
        ". To skip the current iteration of a loop.\n",
        "\n",
        "\n",
        ".To avoid executing the remaining statement in the loop's body for the current iteration.\n",
        "\n",
        ".To enhance clarity when handling specific condition.\n",
        "\n",
        "\n"
      ],
      "metadata": {
        "id": "lcopRiQAHKb8"
      }
    },
    {
      "cell_type": "code",
      "source": [],
      "metadata": {
        "id": "qYf2E73KVRet"
      },
      "execution_count": null,
      "outputs": []
    },
    {
      "cell_type": "markdown",
      "source": [
        "#9 write python program that swap two number with temp variable and without temp variable"
      ],
      "metadata": {
        "id": "iy014i0BVR9M"
      }
    },
    {
      "cell_type": "code",
      "source": [
        "# swapping with temp\n",
        "a=10\n",
        "b=15\n",
        "print(\"before swapping\")\n",
        "print(\"a=\",a,\",b=\",b)\n",
        "temp=a\n",
        "a=b\n",
        "b=temp\n",
        "print(\"after swapping:\")\n",
        "print(\"a=\",a,\",b=\",b)"
      ],
      "metadata": {
        "colab": {
          "base_uri": "https://localhost:8080/"
        },
        "id": "zCn_-jggV7dY",
        "outputId": "d44eed2e-23ae-477c-e83f-260a6ee6bc5c"
      },
      "execution_count": null,
      "outputs": [
        {
          "output_type": "stream",
          "name": "stdout",
          "text": [
            "before swapping\n",
            "a= 10 ,b= 15\n",
            "after swapping:\n",
            "a= 15 ,b= 10\n"
          ]
        }
      ]
    },
    {
      "cell_type": "code",
      "source": [
        "#swapping without temp\n",
        "x=10\n",
        "y=15\n",
        "print(\"before swapping:\")\n",
        "print(\"x=\",x,\",y=\",y)\n",
        "x,y=y,x\n",
        "print(\"after swapping:\")\n",
        "print(\"x=\",x,\",y=\",y)"
      ],
      "metadata": {
        "colab": {
          "base_uri": "https://localhost:8080/"
        },
        "id": "31Yr9Pt4XbPT",
        "outputId": "0ade092e-f3e7-4b11-f26d-78acfb8467e1"
      },
      "execution_count": null,
      "outputs": [
        {
          "output_type": "stream",
          "name": "stdout",
          "text": [
            "before swapping:\n",
            "x= 10 ,y= 15\n",
            "after swapping:\n",
            "x= 15 ,y= 10\n"
          ]
        }
      ]
    },
    {
      "cell_type": "markdown",
      "source": [
        "#10 write a python program to find whether a given number is even or odd,print out an appropriate message to the user."
      ],
      "metadata": {
        "id": "vfGQOx_dY1Gy"
      }
    },
    {
      "cell_type": "code",
      "source": [
        "num=int(input(\"enter a num:\"))\n",
        "if num%2==0:\n",
        "  print(\" Is an even num\")\n",
        "else:\n",
        "  print(\" Is an odd num\")"
      ],
      "metadata": {
        "colab": {
          "base_uri": "https://localhost:8080/"
        },
        "id": "ZHHKgqxEXbma",
        "outputId": "184e967e-61a5-4ee2-9492-121475d4beb4"
      },
      "execution_count": null,
      "outputs": [
        {
          "output_type": "stream",
          "name": "stdout",
          "text": [
            "enter a num:5\n",
            " Is an odd num\n"
          ]
        }
      ]
    },
    {
      "cell_type": "markdown",
      "source": [
        "#11 write a python program to test whether a passed letter is a vowel or not\n"
      ],
      "metadata": {
        "id": "ZNdKXbLodfYv"
      }
    },
    {
      "cell_type": "code",
      "source": [
        "def is_vowel(letter):\n",
        "  vowels={'a','e','i','o','u','A','E','I','O','U'}\n",
        "  if letter in vowels:\n",
        "    return True\n",
        "  else:\n",
        "    return False\n",
        "letter=input(\"enter a single letter:\")\n",
        "if len(letter)==1 :\n",
        "\n",
        "      if is_vowel(letter):\n",
        "        print(\"Is a vowel\")\n",
        "      else:\n",
        "        print(\"Is not a vowel\")\n",
        "else:\n",
        "   print(\"please enter a single alphabetic letter.\")\n"
      ],
      "metadata": {
        "id": "FuTcOla6WVFG",
        "colab": {
          "base_uri": "https://localhost:8080/"
        },
        "outputId": "5e05a6a9-762f-4f51-9be5-a4a3ab50d1f7"
      },
      "execution_count": null,
      "outputs": [
        {
          "output_type": "stream",
          "name": "stdout",
          "text": [
            "enter a single letter:a\n",
            "Is a vowel\n"
          ]
        }
      ]
    },
    {
      "cell_type": "markdown",
      "source": [
        "#12  write a python program to sum of three given integer.however,if two values are equal sum will be zero.\n"
      ],
      "metadata": {
        "id": "ijAgLamwXl8V"
      }
    },
    {
      "cell_type": "code",
      "source": [
        "def sum_of_integers(a,b,c):\n",
        "  if a==b or b==c or a==c:\n",
        "      return 0\n",
        "  else:\n",
        "    return a+b+c\n",
        "num1=int(input(\"enter first integer:\"))\n",
        "num2=int(input(\"enter second integer:\"))\n",
        "num3=int(input(\"enter third integer\"))\n",
        "\n",
        "i=sum_of_integers(num1,num2,num3)\n",
        "print(\"the i is:\",i)"
      ],
      "metadata": {
        "id": "1AHJxuNQYKoM",
        "colab": {
          "base_uri": "https://localhost:8080/"
        },
        "outputId": "a3177fa8-f528-4cff-f755-be61f1fab9d2"
      },
      "execution_count": null,
      "outputs": [
        {
          "output_type": "stream",
          "name": "stdout",
          "text": [
            "enter first integer:3\n",
            "enter second integer:5\n",
            "enter third integer10\n",
            "the i is: 18\n"
          ]
        }
      ]
    },
    {
      "cell_type": "markdown",
      "source": [
        "## 13 write a python program that will return true if the two given integer values are equal or their sum or difference is 5"
      ],
      "metadata": {
        "id": "LWZoQr7wtgS5"
      }
    },
    {
      "cell_type": "code",
      "source": [
        "def check_values(a,b):\n",
        "  if a==b or abs(a+b)== 5 or abs(a-b)==5:\n",
        "       return True\n",
        "  else:\n",
        "       return False\n",
        "num1=int(input(\"enter first integer:\"))\n",
        "num2=int(input(\"enter second integer:\"))\n",
        "i=check_values(num1,num2)\n",
        "print(\"the i is:\",i)"
      ],
      "metadata": {
        "id": "jmawEPQEWVUM",
        "colab": {
          "base_uri": "https://localhost:8080/"
        },
        "outputId": "6234fd46-ee10-49f8-c5b0-01dba501efdb"
      },
      "execution_count": null,
      "outputs": [
        {
          "output_type": "stream",
          "name": "stdout",
          "text": [
            "enter first integer:5\n",
            "enter second integer:15\n",
            "the i is: False\n"
          ]
        }
      ]
    },
    {
      "cell_type": "markdown",
      "source": [
        "#14 write a python program to sum of the first n positive integers."
      ],
      "metadata": {
        "id": "arzWtZ5uxySb"
      }
    },
    {
      "cell_type": "code",
      "source": [
        "n=int(input(\"enter num:\"))\n",
        "sum=(n+(n+1))/2\n",
        "print(sum)"
      ],
      "metadata": {
        "id": "KawIXnHRWVvy",
        "colab": {
          "base_uri": "https://localhost:8080/"
        },
        "outputId": "9d8b81a1-768a-4c10-bfe1-b45072f36aed"
      },
      "execution_count": null,
      "outputs": [
        {
          "output_type": "stream",
          "name": "stdout",
          "text": [
            "enter num:4\n",
            "4.5\n"
          ]
        }
      ]
    },
    {
      "cell_type": "markdown",
      "source": [
        "## 15 write a python program to calculate the length of a string."
      ],
      "metadata": {
        "id": "FOWlzXiXyYtJ"
      }
    },
    {
      "cell_type": "code",
      "source": [
        "str=input(\"enter string:\")\n",
        "strlen=len(str)\n",
        "print(strlen)"
      ],
      "metadata": {
        "colab": {
          "base_uri": "https://localhost:8080/"
        },
        "id": "iM0Chuto3TO1",
        "outputId": "03ce6a75-91a8-478c-99bc-08327b93be89"
      },
      "execution_count": null,
      "outputs": [
        {
          "output_type": "stream",
          "name": "stdout",
          "text": [
            "enter string:hello world\n",
            "11\n"
          ]
        }
      ]
    },
    {
      "cell_type": "markdown",
      "source": [
        "#16 write a python program to count the number of characters(character frequency)in a string"
      ],
      "metadata": {
        "id": "IBa9S6n76sNA"
      }
    },
    {
      "cell_type": "code",
      "source": [
        "def count_character_frequency(input_string):\n",
        "    frequency_dict={}\n",
        "    for char in input_string:\n",
        "         if char in frequency_dict:\n",
        "              frequency_dict[char]+=1\n",
        "         else:\n",
        "               frequency_dict[char]=1\n",
        "               return frequency_dict\n",
        "user_input=input(\"enter a string\")\n",
        "char_frequency=count_character_frequency(user_input)\n",
        "\n",
        "print(\"character frequency:\")\n",
        "for char,frequency in char_frequency.items():\n",
        "  print(f\"{char}:{frequency}\")"
      ],
      "metadata": {
        "id": "k88Hnn_Y3UKw",
        "colab": {
          "base_uri": "https://localhost:8080/"
        },
        "outputId": "2268c66b-8e06-4743-ed8d-221f6b35424e"
      },
      "execution_count": null,
      "outputs": [
        {
          "output_type": "stream",
          "name": "stdout",
          "text": [
            "enter a string\"hello world\"\n",
            "character frequency:\n",
            "\":1\n"
          ]
        }
      ]
    },
    {
      "cell_type": "markdown",
      "source": [
        "#17 what are negative indexes and why are they used?"
      ],
      "metadata": {
        "id": "VmTzAb2NIcvI"
      }
    },
    {
      "cell_type": "code",
      "source": [
        "->Negative indexes in python allow access to elements from the end of a sequence, with -1 referring to the last element.\n",
        "#used of negative indexes\n",
        "-> negative indexes are used to access elements from the end of a sequence conveniently,without needing to know its length"
      ],
      "metadata": {
        "id": "oDeBxjHh3Unn"
      },
      "execution_count": null,
      "outputs": []
    },
    {
      "cell_type": "markdown",
      "source": [
        "#18 write a python program to count occurrences of a substring in a string"
      ],
      "metadata": {
        "id": "9LDLQ6uRLua4"
      }
    },
    {
      "cell_type": "code",
      "source": [
        "def count_substring_occurrences(main_string,substring):\n",
        "   count=main_string.count(substring)\n",
        "   return count\n",
        "main_string=input(\"enter the main string:\")\n",
        "substring=input(\"enter the substring to count:\")\n",
        "# call the function and get the count of occurrences\n",
        "occurrences= count_substring_occurrences(main_string,substring)\n",
        "\n",
        "\n",
        "print(f\"the substring'{substring}' occurs {occurrences} times in the main string.\")"
      ],
      "metadata": {
        "id": "-A-MpgKE3VHt",
        "colab": {
          "base_uri": "https://localhost:8080/"
        },
        "outputId": "9d90f889-c48d-4c20-9914-1e0d86f95abf"
      },
      "execution_count": null,
      "outputs": [
        {
          "output_type": "stream",
          "name": "stdout",
          "text": [
            "enter the main string:\"hello world\"\n",
            "enter the substring to count:3\n",
            "the substring'3' occurs 0 times in the main string.\n"
          ]
        }
      ]
    },
    {
      "cell_type": "markdown",
      "source": [
        "#19 write a python program to count the occurrences of each word in a given sentence"
      ],
      "metadata": {
        "id": "tNwUj6kwO0Lw"
      }
    },
    {
      "cell_type": "code",
      "source": [
        "def count_word_occurrences(sentence):\n",
        "    words=sentence.lower().split()\n",
        "    word_count={}\n",
        "    # iterate over each word in the list\n",
        "    for word in words:\n",
        "        if word in word_count:\n",
        "           word_count[word]+=1\n",
        "        else:\n",
        "          word_count[word]=1\n",
        "    return word_count\n",
        "sentence=input(\"enter a sentence:\")\n",
        "print(\"word occurrences:\")\n",
        "for word,count in word_occurrences.items():\n",
        "\n",
        "    print(f\"{word}:{count}\")"
      ],
      "metadata": {
        "id": "8P36d2vC3VmW",
        "colab": {
          "base_uri": "https://localhost:8080/",
          "height": 228
        },
        "outputId": "8c19a4d5-74e6-43c6-c0e3-ac1780ed007f"
      },
      "execution_count": null,
      "outputs": [
        {
          "output_type": "stream",
          "name": "stdout",
          "text": [
            "enter a sentence:hello\n",
            "word occurrences:\n"
          ]
        },
        {
          "output_type": "error",
          "ename": "NameError",
          "evalue": "name 'word_occurrences' is not defined",
          "traceback": [
            "\u001b[0;31m---------------------------------------------------------------------------\u001b[0m",
            "\u001b[0;31mNameError\u001b[0m                                 Traceback (most recent call last)",
            "\u001b[0;32m<ipython-input-7-7e3c943a59a1>\u001b[0m in \u001b[0;36m<cell line: 13>\u001b[0;34m()\u001b[0m\n\u001b[1;32m     11\u001b[0m \u001b[0msentence\u001b[0m\u001b[0;34m=\u001b[0m\u001b[0minput\u001b[0m\u001b[0;34m(\u001b[0m\u001b[0;34m\"enter a sentence:\"\u001b[0m\u001b[0;34m)\u001b[0m\u001b[0;34m\u001b[0m\u001b[0;34m\u001b[0m\u001b[0m\n\u001b[1;32m     12\u001b[0m \u001b[0mprint\u001b[0m\u001b[0;34m(\u001b[0m\u001b[0;34m\"word occurrences:\"\u001b[0m\u001b[0;34m)\u001b[0m\u001b[0;34m\u001b[0m\u001b[0;34m\u001b[0m\u001b[0m\n\u001b[0;32m---> 13\u001b[0;31m \u001b[0;32mfor\u001b[0m \u001b[0mword\u001b[0m\u001b[0;34m,\u001b[0m\u001b[0mcount\u001b[0m \u001b[0;32min\u001b[0m \u001b[0mword_occurrences\u001b[0m\u001b[0;34m.\u001b[0m\u001b[0mitems\u001b[0m\u001b[0;34m(\u001b[0m\u001b[0;34m)\u001b[0m\u001b[0;34m:\u001b[0m\u001b[0;34m\u001b[0m\u001b[0;34m\u001b[0m\u001b[0m\n\u001b[0m\u001b[1;32m     14\u001b[0m     \u001b[0mprint\u001b[0m\u001b[0;34m(\u001b[0m\u001b[0;34mf\"{word}:{count}\"\u001b[0m\u001b[0;34m)\u001b[0m\u001b[0;34m\u001b[0m\u001b[0;34m\u001b[0m\u001b[0m\n",
            "\u001b[0;31mNameError\u001b[0m: name 'word_occurrences' is not defined"
          ]
        }
      ]
    },
    {
      "cell_type": "markdown",
      "source": [
        "#20 write a python program to get a single string from two given strings\n",
        "separated by a space and swap the first two characters of each string.\n",
        "\n"
      ],
      "metadata": {
        "id": "CdPRVWNLX6Cq"
      }
    },
    {
      "cell_type": "code",
      "source": [
        "def combine_strings(str1,str2):\n",
        "  combined_string=str1 + str2\n",
        "  return combined_string\n",
        "  str1=input(\"enter the first string:\")\n",
        "  str2=input(\"enter the second string:\")\n",
        "\n",
        "  result=combine_strings(str1,str2)\n",
        "  print(\"the combined string is:\",result)"
      ],
      "metadata": {
        "id": "PkPD7PL8YBM1"
      },
      "execution_count": null,
      "outputs": []
    },
    {
      "cell_type": "markdown",
      "source": [
        "#21 write a python program to add 'in' at the end of a given string(length should be at least 3). if the given string already ends with'ing' then add'ly' instead if the string length of the given string is less than 3, leave it unchanged."
      ],
      "metadata": {
        "id": "LwztDZCzUsCo"
      }
    },
    {
      "cell_type": "code",
      "source": [
        "def modify_string(s):\n",
        "  if len(s)<3:\n",
        "    return s\n",
        "  elif s.endswith('ing'):\n",
        "    return s+ 'ly'\n",
        "  else:\n",
        "    return s+'ing'\n",
        "print(modify_string(\"play\"))\n",
        "print(modify_string(\"playing\"))\n",
        "print(modify_string(\"go\"))"
      ],
      "metadata": {
        "id": "ancwmuoqPVJ7",
        "colab": {
          "base_uri": "https://localhost:8080/"
        },
        "outputId": "2465aa3b-f585-4d2a-cb70-4f315ffcdd62"
      },
      "execution_count": null,
      "outputs": [
        {
          "output_type": "stream",
          "name": "stdout",
          "text": [
            "playing\n",
            "playingly\n",
            "go\n"
          ]
        }
      ]
    },
    {
      "cell_type": "markdown",
      "source": [
        "##22 write a python function to reverses a string if its length is a multiple of 4."
      ],
      "metadata": {
        "id": "C3yVIz02VYa6"
      }
    },
    {
      "cell_type": "code",
      "source": [
        "def reverse_string_if_multiple_of_4(s):\n",
        "  if len(s)%4==0:\n",
        "    return s[::-1]\n",
        "  else:\n",
        "    return s\n",
        "user_input=input(\"enter a string:\")\n",
        "result=reverse_string_if_multiple_of_4(user_input)\n",
        "print(\"result:\",result)"
      ],
      "metadata": {
        "id": "HK1OiAeZPV7P",
        "colab": {
          "base_uri": "https://localhost:8080/"
        },
        "outputId": "6b6a4f48-6c7f-446b-9985-0c9cab3405f3"
      },
      "execution_count": null,
      "outputs": [
        {
          "output_type": "stream",
          "name": "stdout",
          "text": [
            "enter a string:test\n",
            "result: tset\n"
          ]
        }
      ]
    },
    {
      "cell_type": "markdown",
      "source": [
        "##23 write a python program to get a string made of the first 2 and last 2 chars from a given a string .if the string length is less than 2 ,return istead of the empty string."
      ],
      "metadata": {
        "id": "N2mnD-GjWGzK"
      }
    },
    {
      "cell_type": "code",
      "source": [
        "def create_new_string(s):\n",
        "\n",
        "  if len(s)<2:\n",
        "    return ''\n",
        "  else:\n",
        "    return s[:2]+s[-2:]\n",
        "user_input=input(\"enter a string:\")\n",
        "result=create_new_string(user_input)\n",
        "print(\"result:\",result)"
      ],
      "metadata": {
        "colab": {
          "base_uri": "https://localhost:8080/"
        },
        "id": "fI5qJbrQWgbh",
        "outputId": "aad343b0-53c7-4928-c3ee-c4eab1609055"
      },
      "execution_count": null,
      "outputs": [
        {
          "output_type": "stream",
          "name": "stdout",
          "text": [
            "enter a string:hello world\n",
            "result: held\n"
          ]
        }
      ]
    },
    {
      "cell_type": "markdown",
      "source": [
        "##24 write a python function to insert a string in the middle of a string."
      ],
      "metadata": {
        "id": "tgqQ4CzEWjvi"
      }
    },
    {
      "cell_type": "code",
      "source": [
        "def insert_string_middle(main_string,insert_string):\n",
        "  middle_index=len(main_string)//2\n",
        "  result=main_string[:middle_index] + insert_string +main_string[middle_index:]\n",
        "  print(result)\n",
        "  main_string=input(\"enter the main string:\")\n",
        "  insert_string=input(\"enter the string to insert:\")\n",
        "  result=insert_string_middle(main_string,insert_string)\n",
        "  print(\"result\",result)"
      ],
      "metadata": {
        "id": "SjkWPMDKWww3"
      },
      "execution_count": null,
      "outputs": []
    },
    {
      "cell_type": "code",
      "source": [],
      "metadata": {
        "id": "Sx5Ds7sfWxCo"
      },
      "execution_count": null,
      "outputs": []
    },
    {
      "cell_type": "markdown",
      "source": [
        "##25 what is list?how will you reverse a list"
      ],
      "metadata": {
        "id": "rXtpiAoRW2sC"
      }
    },
    {
      "cell_type": "code",
      "source": [
        "-> A list in python is an ordered,mutable collection of items that can contain elements of different data types.\n"
      ],
      "metadata": {
        "id": "e3Do1vAEW-I6"
      },
      "execution_count": null,
      "outputs": []
    },
    {
      "cell_type": "code",
      "source": [
        "# E.g\n",
        "\n",
        "list=[1,2,3,4,5,6]\n",
        "list.reverse()\n",
        "print(list)"
      ],
      "metadata": {
        "id": "bpemzoT4W-iP",
        "colab": {
          "base_uri": "https://localhost:8080/"
        },
        "outputId": "7cead242-608d-4ba4-b6ae-76fb0e993604"
      },
      "execution_count": null,
      "outputs": [
        {
          "output_type": "stream",
          "name": "stdout",
          "text": [
            "[6, 5, 4, 3, 2, 1]\n"
          ]
        }
      ]
    },
    {
      "cell_type": "code",
      "source": [],
      "metadata": {
        "id": "8SvTlxNvW_LW"
      },
      "execution_count": null,
      "outputs": []
    },
    {
      "cell_type": "markdown",
      "source": [
        "## 26 how will you remove  last object from a list?"
      ],
      "metadata": {
        "id": "eM3XaG6wW_tS"
      }
    },
    {
      "cell_type": "code",
      "source": [
        "list=[1,2,3,4,5]\n",
        "list.pop()\n",
        "print(list)"
      ],
      "metadata": {
        "id": "rhkHXvMMXCJZ",
        "colab": {
          "base_uri": "https://localhost:8080/"
        },
        "outputId": "e6f09d12-cffb-4bd4-b093-2b31740d8dc0"
      },
      "execution_count": null,
      "outputs": [
        {
          "output_type": "stream",
          "name": "stdout",
          "text": [
            "[1, 2, 3, 4]\n"
          ]
        }
      ]
    },
    {
      "cell_type": "markdown",
      "source": [
        "# 27 suppose listl is [2,33,222,14 and 25],what is list[-l]?\n"
      ],
      "metadata": {
        "id": "Ce1wKkBBHZjB"
      }
    },
    {
      "cell_type": "code",
      "source": [
        "listl=[2,33,222,14,25]\n",
        "print(listl[-1])"
      ],
      "metadata": {
        "colab": {
          "base_uri": "https://localhost:8080/"
        },
        "id": "sEh7AyDuHr6_",
        "outputId": "82bc8474-437a-40e4-f863-ce743bf72a14"
      },
      "execution_count": null,
      "outputs": [
        {
          "output_type": "stream",
          "name": "stdout",
          "text": [
            "25\n"
          ]
        }
      ]
    },
    {
      "cell_type": "markdown",
      "source": [
        "## 28 differentiate between append() and extend()method"
      ],
      "metadata": {
        "id": "l5iCUzReIfJP"
      }
    },
    {
      "cell_type": "markdown",
      "source": [
        "-> The append() and extend() methods in python are used to add elements ta a list,but they operate differently:\n",
        "\n",
        "append()\n",
        "purpose: adds a single element to the end of the list.\n",
        "syntax: list.append(element)\n",
        "effect:the entire element(which could be a list,string,number,etc.) is added as a single item to the end of the list.\n",
        "\n",
        "Example:"
      ],
      "metadata": {
        "id": "JF2NzIKtM5rO"
      }
    },
    {
      "cell_type": "code",
      "source": [
        "listl=[1,2,3]\n",
        "listl.append([4,5])\n",
        "print(listl)"
      ],
      "metadata": {
        "colab": {
          "base_uri": "https://localhost:8080/"
        },
        "id": "UgdiWibiN0yr",
        "outputId": "1b4bfaf8-853e-4550-edfe-4e64e223d97e"
      },
      "execution_count": null,
      "outputs": [
        {
          "output_type": "stream",
          "name": "stdout",
          "text": [
            "[1, 2, 3, [4, 5]]\n"
          ]
        }
      ]
    },
    {
      "cell_type": "markdown",
      "source": [
        "Extend():\n",
        "purpose:Adds multiple elements to the end of the list.\n",
        "syntax:list.extend(iterable)\n",
        "effect:each element in the iterable (like a list,string,tuple)is added individually to the end of the list.\n",
        "    \n",
        "summary:\n",
        "append() adds its argument as a single element at the end of the list.\n",
        "extend() iterates over its argument and adds each element to the list.\n",
        "\n",
        "Example:"
      ],
      "metadata": {
        "id": "rRUjFFIBOJ1N"
      }
    },
    {
      "cell_type": "code",
      "source": [
        "listl=[1,2,3]\n",
        "list.extend([4,5])\n",
        "print(listl)"
      ],
      "metadata": {
        "colab": {
          "base_uri": "https://localhost:8080/"
        },
        "id": "_qcRCF61Oyau",
        "outputId": "7a46da94-7600-4756-fc31-048dc51b818e"
      },
      "execution_count": null,
      "outputs": [
        {
          "output_type": "stream",
          "name": "stdout",
          "text": [
            "[1, 2, 3]\n"
          ]
        }
      ]
    },
    {
      "cell_type": "markdown",
      "source": [
        "##29 write a python function to get the largest number,smallest number and sum of all from a list."
      ],
      "metadata": {
        "id": "ErFuk8f_Py-k"
      }
    },
    {
      "cell_type": "code",
      "source": [
        "def list_statistics(numbers):\n",
        "  if not numbers:\n",
        "    return \"the list is empty.\"\n",
        "  largest=max(numbers)\n",
        "  smallest =min(numbers)\n",
        "  total_sum=sum(numbers)\n",
        "\n",
        "  return largest,smallest,total_sum\n",
        "  numbers=[10,5,20,8,15]\n",
        "  largest,smallest,total_sum=list_statistics(numbers)\n",
        "  print(\"largest number:\",largest)\n",
        "  print(\"smallest number:\",smallest)\n",
        "  print(\"sum of all numbers:\",total_sum)"
      ],
      "metadata": {
        "id": "C2ObMQ3MPwvm"
      },
      "execution_count": null,
      "outputs": []
    },
    {
      "cell_type": "markdown",
      "source": [
        "##30 How will you compare two lists?"
      ],
      "metadata": {
        "id": "Poa_XQfmq6pt"
      }
    },
    {
      "cell_type": "code",
      "source": [
        "list1=[1,2,3,4]\n",
        "list2=[1,2,3,4]\n",
        "are_equal=list1=list2\n",
        "print(are_equal)"
      ],
      "metadata": {
        "id": "3_KWVyNIPxM7",
        "colab": {
          "base_uri": "https://localhost:8080/"
        },
        "outputId": "aebad87c-fdf7-43b3-bc61-1a71b4debb34"
      },
      "execution_count": null,
      "outputs": [
        {
          "output_type": "stream",
          "name": "stdout",
          "text": [
            "[1, 2, 3, 4]\n"
          ]
        }
      ]
    },
    {
      "cell_type": "code",
      "source": [],
      "metadata": {
        "id": "gvWNsCIwPxet"
      },
      "execution_count": null,
      "outputs": []
    },
    {
      "cell_type": "markdown",
      "source": [
        "##31 write a python program to count the number of strings where the string length is 2 more and the first and last character are same from a given list of strings."
      ],
      "metadata": {
        "id": "sO0lQ_4jrEPo"
      }
    },
    {
      "cell_type": "code",
      "source": [
        "def count_special_strings(strings):\n",
        "  count=0\n",
        "  for s in strings:\n",
        "    if len(s)>=2 and s[0]==s[-1]:\n",
        "           count+=1\n",
        "    return count\n",
        "  string_list=['abc','xyx','aba','1221','hello','a']\n",
        "  result=count_special_strings(strings)\n",
        "  print(f\"num of strings meeting the criteria is:{result}\")"
      ],
      "metadata": {
        "id": "-grrDMOsPxvd"
      },
      "execution_count": null,
      "outputs": []
    },
    {
      "cell_type": "code",
      "source": [],
      "metadata": {
        "id": "cGL5LFCP8CgJ"
      },
      "execution_count": null,
      "outputs": []
    },
    {
      "cell_type": "markdown",
      "source": [
        "## 32 write a python program to remove duplicates from a list."
      ],
      "metadata": {
        "id": "cCMjqpAk2EKT"
      }
    },
    {
      "cell_type": "code",
      "source": [
        "def remove_duplicates(input_list):\n",
        "     return list(set(input_list))\n",
        "     num=[1,2,3,3,4,5]\n",
        "     unique_num= remove_duplicates(num)\n",
        "     print(\"unique list:\",unique_num)\n",
        "     print(unique_num)"
      ],
      "metadata": {
        "id": "593VCv2C2Up2"
      },
      "execution_count": null,
      "outputs": []
    },
    {
      "cell_type": "code",
      "source": [],
      "metadata": {
        "id": "j-rdqJtk2Vfz"
      },
      "execution_count": null,
      "outputs": []
    },
    {
      "cell_type": "markdown",
      "source": [
        "##33 write a python program to check a list is empty or not."
      ],
      "metadata": {
        "id": "LVHoGL462WEe"
      }
    },
    {
      "cell_type": "code",
      "source": [
        "def is_list_empty(input_list):\n",
        "   if not input_list:\n",
        "     return True\n",
        "   else:\n",
        "     return False\n",
        "test_list=[]\n",
        "result=is_list_empty(test_list)\n",
        "\n",
        "if result:\n",
        "  print(\"the list is empty.\")\n",
        "else:\n",
        "  print(\"the list is not empty.\")"
      ],
      "metadata": {
        "colab": {
          "base_uri": "https://localhost:8080/"
        },
        "id": "PF90zUFr2jVg",
        "outputId": "60741c24-a03e-43cc-8096-e9ee3530152e"
      },
      "execution_count": null,
      "outputs": [
        {
          "output_type": "stream",
          "name": "stdout",
          "text": [
            "the list is empty.\n"
          ]
        }
      ]
    },
    {
      "cell_type": "markdown",
      "source": [
        "##34 write a python functions that takes two lists and returns true if they have at least one common member."
      ],
      "metadata": {
        "id": "cJmwXD6D2lVW"
      }
    },
    {
      "cell_type": "code",
      "source": [
        "def have_common_member(list1,list2):\n",
        "  for item in list1:\n",
        "     return True\n",
        "  return False\n",
        "  list1=[1,2,3]\n",
        "  list2=[4,5,6]\n",
        "  print(have_common_member(list1,list2)) # output False\n",
        "  list3=[7,8,9]\n",
        "  list4=[9,10,11]\n",
        "  print(have_common_member(list3,list4))  # output True\n"
      ],
      "metadata": {
        "id": "UR6CPVX524u5"
      },
      "execution_count": null,
      "outputs": []
    },
    {
      "cell_type": "markdown",
      "source": [
        "##35 write a python program to generate and print a list of first and last 5 elements where the values are sequare of number between 1 and 30"
      ],
      "metadata": {
        "id": "bTmqGVoT25jn"
      }
    },
    {
      "cell_type": "code",
      "source": [
        "def generate_squares():\n",
        "     squares=[x**2 for x in range(1,31)]\n",
        "     result=squares[:5]+squares[-5:]\n",
        "print(\"list of first and last 5 elements:\",generate_squares())"
      ],
      "metadata": {
        "id": "gsDwcFUdIJ1O",
        "colab": {
          "base_uri": "https://localhost:8080/"
        },
        "outputId": "cfdaba5a-2e35-4c67-8706-a673f70a8802"
      },
      "execution_count": null,
      "outputs": [
        {
          "output_type": "stream",
          "name": "stdout",
          "text": [
            "list of first and last 5 elements: None\n"
          ]
        }
      ]
    },
    {
      "cell_type": "markdown",
      "source": [
        "##36 write a python function that takes a list and returns a new list with unique elements of the first list"
      ],
      "metadata": {
        "id": "ZlcTVLnnIijX"
      }
    },
    {
      "cell_type": "code",
      "source": [
        "def get_unique_elements(lst):\n",
        "  return list(set(lst))\n",
        "original_list=[1,2,2,3,4,4,5,6,6]\n",
        "unique_list=get_unique_elements(original_list)\n",
        "print(\"original list:\",original_list)\n",
        "print(\"unique elements:\",unique_list)"
      ],
      "metadata": {
        "id": "AQ0d4022IKlp",
        "colab": {
          "base_uri": "https://localhost:8080/"
        },
        "outputId": "9ac16156-b5f4-427c-91d5-bd89c035eb42"
      },
      "execution_count": null,
      "outputs": [
        {
          "output_type": "stream",
          "name": "stdout",
          "text": [
            "original list: [1, 2, 2, 3, 4, 4, 5, 6, 6]\n",
            "unique elements: [1, 2, 3, 4, 5, 6]\n"
          ]
        }
      ]
    },
    {
      "cell_type": "markdown",
      "source": [
        "##37 write a python program to convert a list of characters into a string."
      ],
      "metadata": {
        "id": "IFtsTW7II15H"
      }
    },
    {
      "cell_type": "code",
      "source": [
        "def list_to_string(char_list):\n",
        "  result=''.join(char_list)\n",
        "  return result\n",
        "char_list=['H','e','l','l','o']\n",
        "result=list_to_string(char_list)\n",
        "print(\"the string is:\",result)\n"
      ],
      "metadata": {
        "colab": {
          "base_uri": "https://localhost:8080/"
        },
        "id": "TlhXDBSjI4u8",
        "outputId": "52f40e9e-0ea0-4d18-ef45-ca784b0d2109"
      },
      "execution_count": null,
      "outputs": [
        {
          "output_type": "stream",
          "name": "stdout",
          "text": [
            "the string is: Hello\n"
          ]
        }
      ]
    },
    {
      "cell_type": "markdown",
      "source": [
        "##38 write a python program to select an item randomly froma list."
      ],
      "metadata": {
        "id": "LcUv3kh2JH0c"
      }
    },
    {
      "cell_type": "code",
      "source": [
        "\n",
        "import random\n",
        "def select_random_item(input_list):\n",
        "     return random.choice(input_list)\n",
        "my_list=[1,2,3,4,5,6,7]\n",
        "random_item=select_random_item(my_list)\n",
        "print(\"randomy selected item:\",random_item)\n"
      ],
      "metadata": {
        "colab": {
          "base_uri": "https://localhost:8080/"
        },
        "id": "wTIoCAPCJWGN",
        "outputId": "6caf3717-825f-4edc-963d-ca9f85604769"
      },
      "execution_count": null,
      "outputs": [
        {
          "output_type": "stream",
          "name": "stdout",
          "text": [
            "randomy selected item: 3\n"
          ]
        }
      ]
    },
    {
      "cell_type": "markdown",
      "source": [
        "##39 write a python program to find the second smallest number in a list."
      ],
      "metadata": {
        "id": "2E_OvAqsJXrR"
      }
    },
    {
      "cell_type": "code",
      "source": [
        "def  find_second_smallest(numbers):\n",
        "  unique_numbers=list(set(numbers))\n",
        "  if len(unique_numbers)<2:\n",
        "    return None\n",
        "  unique_numbers.sort()\n",
        "  return unique_numbers[1]\n",
        "numbers=[2,33,222,14,25]\n",
        "second_smallest=find_second_smallest(numbers)\n",
        "if second_smallest is not None:\n",
        "  print(f\"second smallest number is:{second_smallest}\")\n",
        "else:\n",
        "  print(\"there are not enough unique numbers to find the second smallest.\")"
      ],
      "metadata": {
        "colab": {
          "base_uri": "https://localhost:8080/"
        },
        "id": "-4Prd3b1JXJB",
        "outputId": "9279f1b7-152a-4eb9-f6aa-0583589c1826"
      },
      "execution_count": null,
      "outputs": [
        {
          "output_type": "stream",
          "name": "stdout",
          "text": [
            "second smallest number is:14\n"
          ]
        }
      ]
    },
    {
      "cell_type": "markdown",
      "source": [
        "##40 write a python program to get unique values from a list."
      ],
      "metadata": {
        "id": "nVTHKVdKJ3mM"
      }
    },
    {
      "cell_type": "code",
      "source": [
        "def get_unique_values(arr):\n",
        "  return list(set(arr))\n",
        "arr=[1,2,3,4,2,3,4,1]\n",
        "unique_values=get_unique_values(arr)\n",
        "print(\"unique values:\",unique_values)"
      ],
      "metadata": {
        "colab": {
          "base_uri": "https://localhost:8080/"
        },
        "id": "t9cHEIcWKDs2",
        "outputId": "58c0f0f3-563b-425d-b324-6bca044f93f8"
      },
      "execution_count": null,
      "outputs": [
        {
          "output_type": "stream",
          "name": "stdout",
          "text": [
            "unique values: [1, 2, 3, 4]\n"
          ]
        }
      ]
    },
    {
      "cell_type": "markdown",
      "source": [
        "##41 write a python program to check whether a list contains a sub list."
      ],
      "metadata": {
        "id": "HOoiZZlNKElK"
      }
    },
    {
      "cell_type": "code",
      "source": [
        "main_list=[10,20,30,40,50]\n",
        "sub_list=[30,40]\n",
        "def contains_sublist(main_list,sub_list):\n",
        "  if not sub_list:\n",
        "    return True\n",
        "  for i in range(len(main_list)-len(sub_list)+1):\n",
        "    if main_list[i:i+len(sub_list)]==sub_list:\n",
        "       return True\n",
        "       return False\n",
        "if contains_sublist(main_list,sub_list):\n",
        "  print(f\"sublist{sub_list} is found in the main list {main_list}.\")\n",
        "else:\n",
        "  print(f\"sublist {sub_list} is not found in the main list{main_list}.\")\n"
      ],
      "metadata": {
        "id": "OtgPT2ByKTk8",
        "colab": {
          "base_uri": "https://localhost:8080/"
        },
        "outputId": "56411a5c-fa68-46bd-a3b0-ab41a9bc9852"
      },
      "execution_count": null,
      "outputs": [
        {
          "output_type": "stream",
          "name": "stdout",
          "text": [
            "sublist[30, 40] is found in the main list [10, 20, 30, 40, 50].\n"
          ]
        }
      ]
    },
    {
      "cell_type": "code",
      "source": [],
      "metadata": {
        "id": "3pbk1ii3KUBI"
      },
      "execution_count": null,
      "outputs": []
    },
    {
      "cell_type": "markdown",
      "source": [
        "##42 write a python program to split a list into different variables."
      ],
      "metadata": {
        "id": "CXEX6foRKUnR"
      }
    },
    {
      "cell_type": "code",
      "source": [
        "my_list=[1,2,3]\n",
        "a,b,c=my_list\n",
        "print(\"a:\",a)\n",
        "print(\"b:\",b)\n",
        "print(\"c:\",c)"
      ],
      "metadata": {
        "id": "baAMBKnqKiJg",
        "colab": {
          "base_uri": "https://localhost:8080/"
        },
        "outputId": "622b8061-c725-4be5-fe31-f295a38c78e5"
      },
      "execution_count": null,
      "outputs": [
        {
          "output_type": "stream",
          "name": "stdout",
          "text": [
            "a: 1\n",
            "b: 2\n",
            "c: 3\n"
          ]
        }
      ]
    },
    {
      "cell_type": "markdown",
      "source": [
        "##43 what is tuple? difference between list and tuple?\n",
        "-> Atuple in python is an immutable,ordered collection of elements,defined using parentheses() and can store multiple data types.\n",
        "\n",
        "btw list and tuple\n",
        "\n",
        "\n",
        "Changeable:\n",
        "        list-> you can change,add or remove items.\n",
        "        tuple->you cannot change the items.\n",
        "\n",
        "\n",
        "syntax:\n",
        "        list: written with square brackets[]\n",
        "        tuple:written with parentheses()\n",
        "\n",
        "\n",
        "\n",
        "Speed:\n",
        "        list->slower because it's changeable\n",
        "        tuple-> faster because it's fixed\n",
        "\n",
        "        \n",
        "Use:\n",
        "        list-> for data that can change\n",
        "        tuple-> for data that stays constant        \n"
      ],
      "metadata": {
        "id": "AmEmaB1PKjI_"
      }
    },
    {
      "cell_type": "markdown",
      "source": [
        "##44 write a python program to create a tuple with different data types."
      ],
      "metadata": {
        "id": "Q2D_4ZVUKzVb"
      }
    },
    {
      "cell_type": "code",
      "source": [
        "mixed_tuple=(42,\"hello\",3.14,True,[1,2,3,4],{\"key\":\"value\"})\n",
        "print(\"tuple with different data types:\",mixed_tuple)"
      ],
      "metadata": {
        "id": "M7P4llxxLMWH",
        "colab": {
          "base_uri": "https://localhost:8080/"
        },
        "outputId": "bbc46234-f1a5-460a-8d48-4bf257043ae4"
      },
      "execution_count": null,
      "outputs": [
        {
          "output_type": "stream",
          "name": "stdout",
          "text": [
            "tuple with different data types: (42, 'hello', 3.14, True, [1, 2, 3, 4], {'key': 'value'})\n"
          ]
        }
      ]
    },
    {
      "cell_type": "markdown",
      "source": [
        "##45 write a pyhton program to unzip a list of tuples into individual lists."
      ],
      "metadata": {
        "id": "1FhkJO_yLNRw"
      }
    },
    {
      "cell_type": "code",
      "source": [
        "def unzip_tuples(tuples_list):\n",
        "  unzipped=list(zip(*tuples_list))\n",
        "  return [list(t)for t in unzipped]\n",
        "  tuples_list=[(1,'a'),(2,'b'),(3,'c')]\n",
        "  unzipped_lists=unzip_tuples(tuples_list)\n",
        "  print(\"list 1:\",unzipped_lists[0])\n",
        "  print(\"list 2:\",unzipped_lists[1])"
      ],
      "metadata": {
        "id": "X8UVzKHELbQf"
      },
      "execution_count": null,
      "outputs": []
    },
    {
      "cell_type": "markdown",
      "source": [
        "##46 write a python program to convert a list of tuples into a dictionary."
      ],
      "metadata": {
        "id": "hW4bdlNGLcXm"
      }
    },
    {
      "cell_type": "code",
      "source": [
        "def list_of_tuples_to_dict(tuples_list):\n",
        "  result_dict={key: value for key,value in tuples_list}\n",
        "  return result_dict\n",
        "  tuples_list=[(1,'a'),(2,'b'),(3,'c')]\n",
        "  result_dict=list_of_tuples_to_dict(tuples_list)\n",
        "  print(\"dictionary:\",result_dict)"
      ],
      "metadata": {
        "id": "sqN9fbezLsSC"
      },
      "execution_count": null,
      "outputs": []
    },
    {
      "cell_type": "markdown",
      "source": [
        "##47 how will you create a dictionary using tuples in python?"
      ],
      "metadata": {
        "id": "2SkABK6kLtTm"
      }
    },
    {
      "cell_type": "code",
      "source": [
        "tuples_list=[(1,'one'),(2,'two'),(3,'three')]\n",
        "dictionary=dict(tuples_list)\n",
        "print(\"dictionary:\",dictionary)"
      ],
      "metadata": {
        "id": "r8PtvU9ZL6DV",
        "colab": {
          "base_uri": "https://localhost:8080/"
        },
        "outputId": "37baeeaa-1ce2-499f-d3e9-bb6342560be1"
      },
      "execution_count": null,
      "outputs": [
        {
          "output_type": "stream",
          "name": "stdout",
          "text": [
            "dictionary: {1: 'one', 2: 'two', 3: 'three'}\n"
          ]
        }
      ]
    },
    {
      "cell_type": "markdown",
      "source": [
        "##48 write a python script to sort (ascending and descending)a dictionary by value."
      ],
      "metadata": {
        "id": "22UFCu2PL7Dx"
      }
    },
    {
      "cell_type": "code",
      "source": [
        "def sort_dict_by_value_ascending(input_dict):\n",
        "  sorted_dict=dict(sorted(input_dict.items(),key=lambda item:item[1]))\n",
        "  return sorted_dict\n",
        "input_dict={'a':3,'b':1,'c':2}\n",
        "sorted_ascending=sort_dict_by_value_ascending(input_dict)\n",
        "print(\"sorted in ascending order:\",sorted_ascending)"
      ],
      "metadata": {
        "id": "4q4c_-voMOXi",
        "colab": {
          "base_uri": "https://localhost:8080/"
        },
        "outputId": "dc57268a-1005-4917-bf3f-04c91864dc1a"
      },
      "execution_count": null,
      "outputs": [
        {
          "output_type": "stream",
          "name": "stdout",
          "text": [
            "sorted in ascending order: {'b': 1, 'c': 2, 'a': 3}\n"
          ]
        }
      ]
    },
    {
      "cell_type": "markdown",
      "source": [
        "##49 write a python script to concatenate following dictionaries to create a new one."
      ],
      "metadata": {
        "id": "xmEpLK_qMPPa"
      }
    },
    {
      "cell_type": "code",
      "source": [
        "def concatenate_dicts(*dicts):\n",
        "  result_dict={}\n",
        "  for dictionary in dicts:\n",
        "       results_dict.update(dictionary)\n",
        "  return result_dict\n",
        "  dict1={'a':1,'b':2}\n",
        "  dict2={'c':3,'d':4}\n",
        "  new_dict=concatenate_dicts(dict1,dict2)\n",
        "  print(\"concatenated dictionary:\",new_dict)"
      ],
      "metadata": {
        "id": "CMBdPv2LMmaf"
      },
      "execution_count": null,
      "outputs": []
    },
    {
      "cell_type": "code",
      "source": [],
      "metadata": {
        "id": "Wx_Zq4C6MnH_"
      },
      "execution_count": null,
      "outputs": []
    },
    {
      "cell_type": "markdown",
      "source": [
        "## 50 write a python script to check if a given key already exists in a dictionary."
      ],
      "metadata": {
        "id": "alSbVW6gMnjV"
      }
    },
    {
      "cell_type": "code",
      "source": [
        "def check_key_exists(dictionary,key):\n",
        "  if key in dictionary:\n",
        "    return True\n",
        "  else:\n",
        "    return False\n",
        "\n",
        "my_dict={'a':1,'b':2,'c':3}\n",
        "key_to_check='b'\n",
        "\n",
        "if check_key_exists(my_dict,key_to_check):\n",
        "  print(f\"key '{key_to_check}'exists in the dictionary.\")\n",
        "else:\n",
        "  print(f\"key '{key_to_check}'does not exist in the dictionary.\")\n"
      ],
      "metadata": {
        "id": "_G03rGNtM7LQ",
        "colab": {
          "base_uri": "https://localhost:8080/"
        },
        "outputId": "eeb9d7ce-03f9-4246-ed27-a5e66f766493"
      },
      "execution_count": null,
      "outputs": [
        {
          "output_type": "stream",
          "name": "stdout",
          "text": [
            "key 'b'exists in the dictionary.\n"
          ]
        }
      ]
    },
    {
      "cell_type": "markdown",
      "source": [
        "##51 how do you traverse through a dictionary object in python?"
      ],
      "metadata": {
        "id": "NQycn7eQm5is"
      }
    },
    {
      "cell_type": "code",
      "source": [
        "my_dict={'a':1,'b':2,'c':3}\n",
        "for key in my_dict:\n",
        "   print(f\"key:{key}\")\n",
        "for value in my_dict.values():\n",
        "  print(f\"value:{value}\")\n"
      ],
      "metadata": {
        "id": "SM2JoPCAM7r2",
        "colab": {
          "base_uri": "https://localhost:8080/"
        },
        "outputId": "db83ff5a-1113-4a7b-8ad6-70fad57b9019"
      },
      "execution_count": null,
      "outputs": [
        {
          "output_type": "stream",
          "name": "stdout",
          "text": [
            "key:a\n",
            "key:b\n",
            "key:c\n",
            "value:1\n",
            "value:2\n",
            "value:3\n"
          ]
        }
      ]
    },
    {
      "cell_type": "markdown",
      "source": [
        "##52 how do you check the presence of a key in A dictionary?\n"
      ],
      "metadata": {
        "id": "eYQRGpgKnZwY"
      }
    },
    {
      "cell_type": "code",
      "source": [
        "my_dict={'a':1,'b':2,'c':3}\n",
        "key_to_check='b'\n",
        "\n",
        "if key_to_check in my_dict:\n",
        "  print(f\"the key '{key_to_check}'exists in the dictionary.\")\n",
        "else:\n",
        "  print(f\"the key '{key_to_check}' does not exist in the dictionary.\")\n"
      ],
      "metadata": {
        "colab": {
          "base_uri": "https://localhost:8080/"
        },
        "id": "qI1MtnaYnm27",
        "outputId": "fce707f9-69cd-4c07-94fe-5907782c2a1f"
      },
      "execution_count": null,
      "outputs": [
        {
          "output_type": "stream",
          "name": "stdout",
          "text": [
            "the key 'b'exists in the dictionary.\n"
          ]
        }
      ]
    },
    {
      "cell_type": "markdown",
      "source": [
        "##53 write a python script to print  a dictionary where the keys are numbers between 1 and 15."
      ],
      "metadata": {
        "id": "v9sk7Zk9nn5R"
      }
    },
    {
      "cell_type": "code",
      "source": [
        "def create_dict():\n",
        "  result_dict={i:i**2 for i in range(1,16)}\n",
        "  return result_dict\n",
        "resulting_dict=create_dict()\n",
        "print(\"dict with keys btw 1 and 15 their squares as values:\")\n",
        "print(resulting_dict)"
      ],
      "metadata": {
        "colab": {
          "base_uri": "https://localhost:8080/"
        },
        "id": "8SOJF8Dsn7P-",
        "outputId": "6fba7f07-5016-4d67-9f8c-45558fec9b62"
      },
      "execution_count": null,
      "outputs": [
        {
          "output_type": "stream",
          "name": "stdout",
          "text": [
            "dict with keys btw 1 and 15 their squares as values:\n",
            "{1: 1, 2: 4, 3: 9, 4: 16, 5: 25, 6: 36, 7: 49, 8: 64, 9: 81, 10: 100, 11: 121, 12: 144, 13: 169, 14: 196, 15: 225}\n"
          ]
        }
      ]
    },
    {
      "cell_type": "markdown",
      "source": [
        "##54 write a python programto check multiple keys exists in a dictionary"
      ],
      "metadata": {
        "id": "VD9eqwu9n8Rr"
      }
    },
    {
      "cell_type": "code",
      "source": [
        "def check_keys_exist(dictionary,keys):\n",
        "  return all(key in dictionary for key in keys)\n",
        "\n",
        "my_dict={'a':1,'b':2,'c':3}\n",
        "keys_to_check=['a','c']\n",
        "\n",
        "if check_keys_exist(my_dict, keys_to_check):\n",
        "\n",
        "  print(\"all keys exist in dict.\")\n",
        "else:\n",
        "  print(\"not all keys exist in dict.\")"
      ],
      "metadata": {
        "colab": {
          "base_uri": "https://localhost:8080/"
        },
        "id": "xoiZOvqPoMl5",
        "outputId": "131eee31-ef85-4653-8c25-4a7ec9888ea7"
      },
      "execution_count": null,
      "outputs": [
        {
          "output_type": "stream",
          "name": "stdout",
          "text": [
            "all keys exist in dict.\n"
          ]
        }
      ]
    },
    {
      "cell_type": "markdown",
      "source": [
        "##55 write a python script to merge two python  dictionaries"
      ],
      "metadata": {
        "id": "jrJHbhtOoNJg"
      }
    },
    {
      "cell_type": "code",
      "source": [
        "def merge_dicts(dict1,dict2):\n",
        "  merged_dict=dict1.copy()\n",
        "  merged_dict.update(dict2)\n",
        "  return merged_dict\n",
        "\n",
        "  dict1={'a':1,'b':2}\n",
        "  dict2={'c':3,'d':4}\n",
        "  merged_dict=merge_dicts(dict1,dict2)\n",
        "  print(\"merged dictionary:\",merged_dict)"
      ],
      "metadata": {
        "id": "AmQeEpnwoa0S"
      },
      "execution_count": null,
      "outputs": []
    },
    {
      "cell_type": "markdown",
      "source": [
        "##56 write a python program  to map two lists into a dictionary\n",
        "sample output:counter({'a':400,'b':400,'d':400,'c':300})"
      ],
      "metadata": {
        "id": "h9ZHqFORocxf"
      }
    },
    {
      "cell_type": "code",
      "source": [
        "from typing import Counter\n",
        "keys=['a','b','c']\n",
        "values=[400,400,300,400]\n",
        "mapped_dict=dict(zip(keys,values))\n",
        "result= Counter(mapped_dict)\n",
        "print(result)"
      ],
      "metadata": {
        "id": "ZxP5usGZob4P",
        "colab": {
          "base_uri": "https://localhost:8080/"
        },
        "outputId": "866fb9d2-5338-4e27-fcf2-5073965bdee5"
      },
      "execution_count": null,
      "outputs": [
        {
          "output_type": "stream",
          "name": "stdout",
          "text": [
            "Counter({'a': 400, 'b': 400, 'c': 300})\n"
          ]
        }
      ]
    },
    {
      "cell_type": "markdown",
      "source": [
        "##57 write a python program to find the higest 3 values in a dictionary"
      ],
      "metadata": {
        "id": "_PTbMbrPo_ho"
      }
    },
    {
      "cell_type": "code",
      "source": [
        "def highest_three_values(dictionary)\n",
        "sorted_values=sorted(dictionary.values)\n",
        "\n"
      ],
      "metadata": {
        "id": "bcxdLGxOpQvo"
      },
      "execution_count": null,
      "outputs": []
    },
    {
      "cell_type": "markdown",
      "source": [
        "## 58 write a python program to combine values in python list of dictionaries."
      ],
      "metadata": {
        "id": "4M-IU3x5st15"
      }
    },
    {
      "cell_type": "code",
      "source": [
        "from collections import Counter\n",
        "\n",
        "def combine_values(data):\n",
        "  result=Counter()\n",
        "  for entry in data:\n",
        "    result[entry['item']] +=entry['amount']\n",
        "  return result\n",
        "data=[\n",
        "      {'item':'item1','amount':\n",
        "  400},\n",
        "      {'item':'item2','amount':\n",
        "  300},\n",
        "      {'item':'item1':'amount':750}\n",
        "\n",
        "      ]\n",
        "\n",
        "\n",
        "output =combine_values(data)\n",
        "print(\"combine values:\"output)\n",
        "\n"
      ],
      "metadata": {
        "id": "7UBbE1A4XaNr",
        "colab": {
          "base_uri": "https://localhost:8080/",
          "height": 106
        },
        "outputId": "2fbd1ca0-519e-4957-f834-b26a4c4e78fd"
      },
      "execution_count": null,
      "outputs": [
        {
          "output_type": "error",
          "ename": "SyntaxError",
          "evalue": "invalid syntax (<ipython-input-6-697d1ce47c6a>, line 13)",
          "traceback": [
            "\u001b[0;36m  File \u001b[0;32m\"<ipython-input-6-697d1ce47c6a>\"\u001b[0;36m, line \u001b[0;32m13\u001b[0m\n\u001b[0;31m    {'item':'item1':'amount':750}\u001b[0m\n\u001b[0m                   ^\u001b[0m\n\u001b[0;31mSyntaxError\u001b[0m\u001b[0;31m:\u001b[0m invalid syntax\n"
          ]
        }
      ]
    },
    {
      "cell_type": "code",
      "source": [],
      "metadata": {
        "id": "jSoFL1w5Xai6"
      },
      "execution_count": null,
      "outputs": []
    },
    {
      "cell_type": "markdown",
      "source": [
        "##59 write a python program to create a dictionary from a string.\n"
      ],
      "metadata": {
        "id": "3Nhj1U0YXbIO"
      }
    },
    {
      "cell_type": "code",
      "source": [
        "def string_to_dict(input_string):\n",
        "  char_count_dict={}\n",
        "  for char in input_string:\n",
        "    if char in char_count_dict:\n",
        "      char_count_dict[char]+=1\n",
        "    else:\n",
        "      char_count_dict[char]=1\n",
        "    return char_count_dict\n",
        "  input_string=\"hello world\"\n",
        "  result_dict=string_to_dict(input_string)\n",
        "  print(result_dict)"
      ],
      "metadata": {
        "id": "2NgAVYHuX6dX"
      },
      "execution_count": null,
      "outputs": []
    },
    {
      "cell_type": "markdown",
      "source": [
        "##60 sample string:\n",
        "'w3resource'expected output:\n",
        "{'3':1,'s':1,'r':2,'u':1,'w':1,'c':1,'e':2,'o':1}"
      ],
      "metadata": {
        "id": "PZjxgudOYTGo"
      }
    },
    {
      "cell_type": "code",
      "source": [
        "def count_char_frequency(s):\n",
        "  frequency={}\n",
        "  for char in s:\n",
        "     if char in frequency:\n",
        "        frequency[char] +=1\n",
        "     else:\n",
        "        frequency[char]=1\n",
        "  return frequency\n",
        "sample_string='w3resource'\n",
        "char_frequency=count_char_frequency(sample_string)\n",
        "print(\"character frequency:\",char_frequency)"
      ],
      "metadata": {
        "id": "ybJxpBHiY3qL",
        "colab": {
          "base_uri": "https://localhost:8080/"
        },
        "outputId": "027bdb28-a51f-4ebd-e21e-938885977a12"
      },
      "execution_count": null,
      "outputs": [
        {
          "output_type": "stream",
          "name": "stdout",
          "text": [
            "character frequency: {'w': 1, '3': 1, 'r': 2, 'e': 2, 's': 1, 'o': 1, 'u': 1, 'c': 1}\n"
          ]
        }
      ]
    },
    {
      "cell_type": "markdown",
      "source": [
        "##61 write a python program to calculate the factorial of a number(a nonnegative integer)"
      ],
      "metadata": {
        "id": "VW3sLr3sY6iO"
      }
    },
    {
      "cell_type": "code",
      "source": [
        "def factorial(n):\n",
        "  if n<0:\n",
        "    return \"factorial is not define for negative num.\"\n",
        "  elif n==0 or n==1:\n",
        "    return 1\n",
        "  else:\n",
        "    result=1\n",
        "    for i in range(2,n+1):\n",
        "      result*=i\n",
        "      return result\n",
        "num=5\n",
        "print(\"factorial of {num}is:{factorial(num)}\")\n"
      ],
      "metadata": {
        "id": "8uQWc8H0ZMmb",
        "colab": {
          "base_uri": "https://localhost:8080/"
        },
        "outputId": "3040cef2-d050-4c99-fd0f-2034bd59885e"
      },
      "execution_count": null,
      "outputs": [
        {
          "output_type": "stream",
          "name": "stdout",
          "text": [
            "factorial of {num}is:{factorial(num)}\n"
          ]
        }
      ]
    },
    {
      "cell_type": "markdown",
      "source": [
        "#62 write a python function to check whether a number is in a given range\n"
      ],
      "metadata": {
        "id": "SiHx2vKoZOIG"
      }
    },
    {
      "cell_type": "code",
      "source": [
        "def is_in_range(num,start,end):\n",
        "  if start<=num<=end:\n",
        "    return True\n",
        "  else:\n",
        "    return False\n",
        "num=5\n",
        "range_start=1\n",
        "range_end=10\n",
        "if is_in_range(num,range_start,range_end):\n",
        "  print(f\"num {num}is in range{range_start}to{range_end}\")\n",
        "else:\n",
        "  print(f\"num{num}is not a range{range_start}to{range_end}\")"
      ],
      "metadata": {
        "colab": {
          "base_uri": "https://localhost:8080/"
        },
        "id": "DbYbuhU1kuEQ",
        "outputId": "f1746daf-f2e5-4158-f8d9-1a86def61539"
      },
      "execution_count": null,
      "outputs": [
        {
          "output_type": "stream",
          "name": "stdout",
          "text": [
            "num 5is in range1to10\n"
          ]
        }
      ]
    },
    {
      "cell_type": "markdown",
      "source": [
        "##63 write a python function to check whether a number is perfect or not."
      ],
      "metadata": {
        "id": "BpWwngLfnOry"
      }
    },
    {
      "cell_type": "code",
      "source": [
        "def is_perfect_number(n):\n",
        "  if n <=0:\n",
        "    return False\n",
        "  sum_of_divisors=0\n",
        "  for i in range(1,n):\n",
        "    if n%i==0:\n",
        "      sum_of_divisors +=i\n",
        "    return sum_of_divisors==n\n",
        "\n",
        "  print(f\"{num}is a perfect num.\")\n",
        "\n",
        "  print(f\"{num}is not a perfect num\")"
      ],
      "metadata": {
        "id": "sTgvrrk1kunY"
      },
      "execution_count": null,
      "outputs": []
    },
    {
      "cell_type": "markdown",
      "source": [
        "#64 write a python function that checks whether a passed string  is palindrome or not"
      ],
      "metadata": {
        "id": "EgyWNzo-pFHM"
      }
    },
    {
      "cell_type": "code",
      "source": [
        "def is_palindrome(string):\n",
        "  cleaned_string=string.replace(\" \",\"\").lower()\n",
        "  return cleaned_string==cleaned_string[::-1]\n",
        "  test_string=\"madam\"\n",
        "  print(f\"Is'{test_string}' a palindrome? {is_palindrome(test_string)}\")\n",
        "  test_string=\"hello\"\n",
        "  print(f\"Is'{test_string}'a palindrome? {is_palindrome(test_string)}\")\n",
        "\n",
        "  test_string=\"A man a plan a canal panama\"\n",
        "  print(f\"Is '{test_string}' a palindrome? {is_palindrome(test_string)}\")"
      ],
      "metadata": {
        "id": "Vbmzt4k_pT8F"
      },
      "execution_count": null,
      "outputs": []
    },
    {
      "cell_type": "code",
      "source": [],
      "metadata": {
        "id": "6NL7tTD0pUhj"
      },
      "execution_count": null,
      "outputs": []
    },
    {
      "cell_type": "markdown",
      "source": [
        "#65 how many basic Types of functions are available in python?"
      ],
      "metadata": {
        "id": "wvQKAge7pVB1"
      }
    },
    {
      "cell_type": "markdown",
      "source": [
        "there are two main types of functions\n",
        "\n",
        "->1 built-in functions:functions that come with python and you can use them right away.\n",
        "->2 user-defined function:function that you create yourself to do specific tasks"
      ],
      "metadata": {
        "id": "SBd1-sWr9dm1"
      }
    },
    {
      "cell_type": "markdown",
      "source": [
        "##66 how can you pick a random item from a list or tuple"
      ],
      "metadata": {
        "id": "VI1NBVbKpjBF"
      }
    },
    {
      "cell_type": "code",
      "source": [
        " import random\n",
        " my_list=[1,2,3,4,5]\n",
        "random_item=random.choice(my_list)\n",
        "print(random_item)"
      ],
      "metadata": {
        "colab": {
          "base_uri": "https://localhost:8080/"
        },
        "id": "HlCMrx77p3d3",
        "outputId": "99f2340b-ba3b-4df8-c146-4ec096c58c0d"
      },
      "execution_count": null,
      "outputs": [
        {
          "output_type": "stream",
          "name": "stdout",
          "text": [
            "2\n"
          ]
        }
      ]
    },
    {
      "cell_type": "markdown",
      "source": [
        "#67how can you pick a random item from a range?"
      ],
      "metadata": {
        "id": "GNROoyqGp6iw"
      }
    },
    {
      "cell_type": "code",
      "source": [
        "import random\n",
        "my_list=[1,2,3,4,5]\n",
        "random_item=random.choice(my_list)\n",
        "print(random_item)"
      ],
      "metadata": {
        "colab": {
          "base_uri": "https://localhost:8080/"
        },
        "id": "2a-GPZFYqC4V",
        "outputId": "6f1ad7b1-cb93-4f32-ab64-2ba874085bfb"
      },
      "execution_count": null,
      "outputs": [
        {
          "output_type": "stream",
          "name": "stdout",
          "text": [
            "2\n"
          ]
        }
      ]
    },
    {
      "cell_type": "markdown",
      "source": [
        "#68 how can you get a random number in python?"
      ],
      "metadata": {
        "id": "r6TImFsUqEXI"
      }
    },
    {
      "cell_type": "code",
      "source": [
        "import random\n",
        "random_int=random.randrange(1,11)\n",
        "random_int=random.randint(1,10)\n",
        "print(\"random integer:\",random_int)"
      ],
      "metadata": {
        "colab": {
          "base_uri": "https://localhost:8080/"
        },
        "id": "GQc2U_AUqLuL",
        "outputId": "6668060b-4001-411e-8f41-63d57ca5a632"
      },
      "execution_count": null,
      "outputs": [
        {
          "output_type": "stream",
          "name": "stdout",
          "text": [
            "random integer: 3\n"
          ]
        }
      ]
    },
    {
      "cell_type": "markdown",
      "source": [
        "#69 how will you set the starting value in generating random numbers?"
      ],
      "metadata": {
        "id": "JSg7R53WqMD0"
      }
    },
    {
      "cell_type": "code",
      "source": [
        "import random\n",
        "random.seed(42)\n",
        "print(random.randint(1,10))\n",
        "print(random.random())"
      ],
      "metadata": {
        "colab": {
          "base_uri": "https://localhost:8080/"
        },
        "id": "JD5vuiFnqX8t",
        "outputId": "58ad08d6-817a-4791-f71b-a8c22ce7ba99"
      },
      "execution_count": null,
      "outputs": [
        {
          "output_type": "stream",
          "name": "stdout",
          "text": [
            "2\n",
            "0.025010755222666936\n"
          ]
        }
      ]
    },
    {
      "cell_type": "markdown",
      "source": [
        "#70 how will you randomize the item of a list in place?"
      ],
      "metadata": {
        "id": "kX8C6ayGqY0u"
      }
    },
    {
      "cell_type": "code",
      "source": [
        "import random\n",
        "my_list=[1,2,3,4,5]\n",
        "random.shuffle(my_list)\n",
        "print(my_list)"
      ],
      "metadata": {
        "colab": {
          "base_uri": "https://localhost:8080/"
        },
        "id": "XsfACu43qiRG",
        "outputId": "8ddca40e-9056-47d4-c68c-ebe48e80eda5"
      },
      "execution_count": null,
      "outputs": [
        {
          "output_type": "stream",
          "name": "stdout",
          "text": [
            "[4, 5, 1, 2, 3]\n"
          ]
        }
      ]
    },
    {
      "cell_type": "markdown",
      "source": [
        "#71 what is file function in python ?what  are keywords to create and write file"
      ],
      "metadata": {
        "id": "k2L912xMqkP3"
      }
    },
    {
      "cell_type": "code",
      "source": [
        "#file functions in python allow you to work with files,like reading from or writing to them\n",
        "#To create and write to a file , you use the open() function."
      ],
      "metadata": {
        "id": "iIrREZyTqwUk"
      },
      "execution_count": null,
      "outputs": []
    },
    {
      "cell_type": "code",
      "source": [
        "# write mode:\n",
        "\n",
        "with open(\"example.txt\",\"w\") as file:\n",
        "  file.write(\"hello,world!\")"
      ],
      "metadata": {
        "id": "YJS1c7g6MI9b"
      },
      "execution_count": null,
      "outputs": []
    },
    {
      "cell_type": "code",
      "source": [
        "# append mode\n",
        "with open(\"example.txt\",\"a\") as file:\n",
        "  file.write(\"/nAppending this line.\")"
      ],
      "metadata": {
        "id": "R-5ttz0dMkNH"
      },
      "execution_count": null,
      "outputs": []
    },
    {
      "cell_type": "markdown",
      "source": [
        "#72 write a python program to read  an entire text file."
      ],
      "metadata": {
        "id": "e59WvY94qxNj"
      }
    },
    {
      "cell_type": "code",
      "source": [
        "def read_file(file_path):\n",
        "  with open(file_path,'r')as file:\n",
        "    content=file.read()\n",
        "  return content\n",
        "file_path='example.txt'\n",
        "file_content=read_file(file_path)\n",
        "print(\"file content:\\n\",file_content)"
      ],
      "metadata": {
        "colab": {
          "base_uri": "https://localhost:8080/"
        },
        "id": "_xOCF6w6zwyU",
        "outputId": "4f51c608-189e-45c3-dd43-6170d1296ef4"
      },
      "execution_count": null,
      "outputs": [
        {
          "output_type": "stream",
          "name": "stdout",
          "text": [
            "file content:\n",
            " hello,world!/nAppending this line.\n"
          ]
        }
      ]
    },
    {
      "cell_type": "markdown",
      "source": [
        "#73write a python program to append text to a file and display the text."
      ],
      "metadata": {
        "id": "TyP7JWCVzxof"
      }
    },
    {
      "cell_type": "code",
      "source": [
        "def append_read_file(file_path,text_to_append):\n",
        "  with open(file_path,'a')as file:\n",
        "    file.write(text_to_append+\"/n\")\n",
        "  with open(file_path,'r')as file:\n",
        "    content=file.read()\n",
        "    return content"
      ],
      "metadata": {
        "id": "J691kT66z-7v"
      },
      "execution_count": null,
      "outputs": []
    },
    {
      "cell_type": "markdown",
      "source": [
        "#74 write a python program to read first n lines of a file."
      ],
      "metadata": {
        "id": "D6Z6Q6Xwz_2o"
      }
    },
    {
      "cell_type": "code",
      "source": [
        "def read_first_n_lines(file_path,n):\n",
        "  with open(file_path,'r')as file:\n",
        "    for i in range(n):\n",
        "      line=file.readline()\n",
        "      if line:\n",
        "        print(line.strip())\n",
        "      else:\n",
        "        break\n",
        "file_path='example.txt'\n",
        "n=3\n",
        "read_first_n_lines(file_path,n)"
      ],
      "metadata": {
        "colab": {
          "base_uri": "https://localhost:8080/"
        },
        "id": "kdrw6Igf0L93",
        "outputId": "dc3dcf4a-e676-479f-c808-68c116bc7eed"
      },
      "execution_count": null,
      "outputs": [
        {
          "output_type": "stream",
          "name": "stdout",
          "text": [
            "hello,world!/nAppending this line.\n"
          ]
        }
      ]
    },
    {
      "cell_type": "markdown",
      "source": [
        "#75write a python program to read last n line of a file."
      ],
      "metadata": {
        "id": "WQqzb-G_0Mah"
      }
    },
    {
      "cell_type": "code",
      "source": [
        "def read_last_n_lines(file_path,n):\n",
        "  with open(file_path,'r')as file:\n",
        "    lines=file.readlines()\n",
        "\n",
        "    last_n_lines=lines[-n:]\n",
        "    for line in last_n_lines:\n",
        "      print(line,strip())\n",
        "\n",
        "file_path='example.txt'\n",
        "n=3\n",
        "read_first_n_lines(file_path,n)\n"
      ],
      "metadata": {
        "colab": {
          "base_uri": "https://localhost:8080/"
        },
        "id": "zJI4Uuf00YlI",
        "outputId": "cd73a421-f85b-46bc-97cc-7619b635b5ce"
      },
      "execution_count": null,
      "outputs": [
        {
          "output_type": "stream",
          "name": "stdout",
          "text": [
            "hello,world!/nAppending this line.\n"
          ]
        }
      ]
    },
    {
      "cell_type": "markdown",
      "source": [
        "# 76 write a python program to read a file line by line and store it into a list"
      ],
      "metadata": {
        "id": "nfntN72D0ZKq"
      }
    },
    {
      "cell_type": "code",
      "source": [
        "def read_file_to_list(file_path):\n",
        "    try:\n",
        "           with open(file_path,'r')as file:\n",
        "               lines=file.readlines()\n",
        "               line_list=[line.strip()for line in lines]\n",
        "           return line_list\n",
        "    except FileNotFoundError:\n",
        "      print(\"error: file was not found.\")\n",
        "    return []\n",
        "file_path=\"example.txt\"\n",
        "lines_list=read_file_to_list(file_path)\n",
        "print(lines_list)\n"
      ],
      "metadata": {
        "colab": {
          "base_uri": "https://localhost:8080/"
        },
        "id": "j53Hhd6X1g-9",
        "outputId": "b418ce91-0f31-44ee-d1ca-db3d08f65444"
      },
      "execution_count": null,
      "outputs": [
        {
          "output_type": "stream",
          "name": "stdout",
          "text": [
            "error: file was not found.\n",
            "[]\n"
          ]
        }
      ]
    },
    {
      "cell_type": "markdown",
      "source": [
        "# 77 write a python program to read a file line by line store it into a variable."
      ],
      "metadata": {
        "id": "XNv3VHSn0r00"
      }
    },
    {
      "cell_type": "code",
      "source": [
        "def read_file_to_variable(file_path):\n",
        "  with open(file_path,'r') as file:\n",
        "      content=file.readlines()\n",
        "  return content\n",
        "file_path='sample.txt'\n",
        "\n",
        "try:\n",
        "    file_content=read_file_to_variable(file_path)\n",
        "    print(\"file content stored in variable:\")\n",
        "    print(file_content)\n",
        "except FileNotFoundError:\n",
        "    print(f\"the file '{file_path}' does not exist.\")\n",
        "\n",
        "\n"
      ],
      "metadata": {
        "id": "viCFCasZ8sdM",
        "colab": {
          "base_uri": "https://localhost:8080/"
        },
        "outputId": "8d376c58-53fe-4d89-8e99-28b310b01948"
      },
      "execution_count": null,
      "outputs": [
        {
          "output_type": "stream",
          "name": "stdout",
          "text": [
            "the file 'sample.txt' does not exist.\n"
          ]
        }
      ]
    },
    {
      "cell_type": "markdown",
      "source": [
        "#78 write a python program to find the longest words."
      ],
      "metadata": {
        "id": "zFnBz2WC08sL"
      }
    },
    {
      "cell_type": "code",
      "source": [
        "def find_longest_words(text):\n",
        "    words =text.split()\n",
        "    max_length=max(len(word) for word in words)\n",
        "    return [word for word in words if len(word)==max_length]\n",
        "text=\"the quick brown for jumps over the lazy dog\"\n",
        "print(\"longest word(s):\",find_longest_words(text))"
      ],
      "metadata": {
        "id": "hOlw1ecM1FUh",
        "colab": {
          "base_uri": "https://localhost:8080/"
        },
        "outputId": "21b07de3-39dc-44ed-ec2c-065691bcf508"
      },
      "execution_count": null,
      "outputs": [
        {
          "output_type": "stream",
          "name": "stdout",
          "text": [
            "longest word(s): ['quick', 'brown', 'jumps']\n"
          ]
        }
      ]
    },
    {
      "cell_type": "markdown",
      "source": [
        "# 79 write a python program to count the number of lines in a text file."
      ],
      "metadata": {
        "id": "3j_pncgD1Fxr"
      }
    },
    {
      "cell_type": "code",
      "source": [
        "def count_lines(file_path):\n",
        "  try:\n",
        "     with open(file_path,'r')as file:\n",
        "      lines=file.readlines()\n",
        "     return len(lines)\n",
        "  except FileNotFoundError:\n",
        "    print(\"specified file was not found.\")\n",
        "    return 0\n",
        "  except Exception as e:\n",
        "    print(f\"error occurred:{e}\")\n",
        "    return 0\n",
        "file_path='sample.txt'\n",
        "line_count=count_lines(file_path)\n",
        "print(f\"number of lines in the file:{line_count}\")\n"
      ],
      "metadata": {
        "colab": {
          "base_uri": "https://localhost:8080/"
        },
        "id": "paarzj0Wak_x",
        "outputId": "6c638918-5fe1-4da3-a965-6c39cf598328"
      },
      "execution_count": null,
      "outputs": [
        {
          "output_type": "stream",
          "name": "stdout",
          "text": [
            "specified file was not found.\n",
            "number of lines in the file:0\n"
          ]
        }
      ]
    },
    {
      "cell_type": "markdown",
      "source": [
        "#80 write a python program to count the frequency of words in a file."
      ],
      "metadata": {
        "id": "rnDsjo4b1S_Z"
      }
    },
    {
      "cell_type": "code",
      "source": [
        "file_path='example.txt'\n",
        "word_frequencies= count_word_frequency(file_path)\n",
        "print(\"word frequencies:\")\n",
        "for word,frequency in word_frequencies.items():\n",
        "  print(f\"{word}:{frequency}\")\n"
      ],
      "metadata": {
        "id": "nPLL-KCW1lIo",
        "colab": {
          "base_uri": "https://localhost:8080/",
          "height": 219
        },
        "outputId": "ed8daa85-b953-4d78-8f9a-a58fa7b214e3"
      },
      "execution_count": null,
      "outputs": [
        {
          "output_type": "error",
          "ename": "NameError",
          "evalue": "name 'count_word_frequency' is not defined",
          "traceback": [
            "\u001b[0;31m---------------------------------------------------------------------------\u001b[0m",
            "\u001b[0;31mNameError\u001b[0m                                 Traceback (most recent call last)",
            "\u001b[0;32m<ipython-input-33-a25612382afd>\u001b[0m in \u001b[0;36m<cell line: 2>\u001b[0;34m()\u001b[0m\n\u001b[1;32m      1\u001b[0m \u001b[0mfile_path\u001b[0m\u001b[0;34m=\u001b[0m\u001b[0;34m'example.txt'\u001b[0m\u001b[0;34m\u001b[0m\u001b[0;34m\u001b[0m\u001b[0m\n\u001b[0;32m----> 2\u001b[0;31m \u001b[0mword_frequencies\u001b[0m\u001b[0;34m=\u001b[0m \u001b[0mcount_word_frequency\u001b[0m\u001b[0;34m(\u001b[0m\u001b[0mfile_path\u001b[0m\u001b[0;34m)\u001b[0m\u001b[0;34m\u001b[0m\u001b[0;34m\u001b[0m\u001b[0m\n\u001b[0m\u001b[1;32m      3\u001b[0m \u001b[0mprint\u001b[0m\u001b[0;34m(\u001b[0m\u001b[0;34m\"word frequencies:\"\u001b[0m\u001b[0;34m)\u001b[0m\u001b[0;34m\u001b[0m\u001b[0;34m\u001b[0m\u001b[0m\n\u001b[1;32m      4\u001b[0m \u001b[0;32mfor\u001b[0m \u001b[0mword\u001b[0m\u001b[0;34m,\u001b[0m\u001b[0mfrequency\u001b[0m \u001b[0;32min\u001b[0m \u001b[0mword_frequencies\u001b[0m\u001b[0;34m.\u001b[0m\u001b[0mitems\u001b[0m\u001b[0;34m(\u001b[0m\u001b[0;34m)\u001b[0m\u001b[0;34m:\u001b[0m\u001b[0;34m\u001b[0m\u001b[0;34m\u001b[0m\u001b[0m\n\u001b[1;32m      5\u001b[0m   \u001b[0mprint\u001b[0m\u001b[0;34m(\u001b[0m\u001b[0;34mf\"{word}:{frequency}\"\u001b[0m\u001b[0;34m)\u001b[0m\u001b[0;34m\u001b[0m\u001b[0;34m\u001b[0m\u001b[0m\n",
            "\u001b[0;31mNameError\u001b[0m: name 'count_word_frequency' is not defined"
          ]
        }
      ]
    },
    {
      "cell_type": "code",
      "source": [],
      "metadata": {
        "id": "vElS8mtr1lgk"
      },
      "execution_count": null,
      "outputs": []
    },
    {
      "cell_type": "markdown",
      "source": [
        "#81 write a python program to write a list to a file."
      ],
      "metadata": {
        "id": "k7xsnFrE1l_V"
      }
    },
    {
      "cell_type": "code",
      "source": [
        "# python program to write a list to a file\n",
        "# list of items to write to the file\n",
        "items =[\"python\",\"file writing\",\"lists\"]\n",
        "file_name=\"output.txt\"\n",
        "with open(file_name,'w')as file:\n",
        "     for item in items:\n",
        "      file.write(item+\"\\n\")\n",
        "     print(f\"the list has been written to {file_name}\")\n"
      ],
      "metadata": {
        "id": "25A-uByr1u6G",
        "colab": {
          "base_uri": "https://localhost:8080/"
        },
        "outputId": "129650dc-a8f4-4d6e-ad31-a052630e287f"
      },
      "execution_count": null,
      "outputs": [
        {
          "output_type": "stream",
          "name": "stdout",
          "text": [
            "the list has been written to output.txt\n"
          ]
        }
      ]
    },
    {
      "cell_type": "markdown",
      "source": [
        "# 82 write a python program to copy the contents of a file to another file."
      ],
      "metadata": {
        "id": "eptowIbE1vek"
      }
    },
    {
      "cell_type": "code",
      "source": [
        "def copy_file(source_file_path,destination_file_path):\n",
        "   with open(source_file_path,'r')as source_file:\n",
        "     content=source_file.read()\n",
        "   with open(destination_file_path,'w') as destination_file:\n",
        "     destination_file.write(content)\n"
      ],
      "metadata": {
        "id": "PT0wq9dzgGrH"
      },
      "execution_count": null,
      "outputs": []
    },
    {
      "cell_type": "markdown",
      "source": [
        "#83 explain exception handling?what is an error  in python?"
      ],
      "metadata": {
        "id": "KBF_S_9w19Pi"
      }
    },
    {
      "cell_type": "markdown",
      "source": [
        "-> exception handling is like a safety net for your code.it catches errors that happen while your program is running so your program doesn't crash.\n",
        "\n",
        "Try block: this is where you put the code that might cause an error.\n",
        "Except block:this is where you handle the error if it happens.\n",
        "Finally block:this is code that will run no matter what,whether there are an error or not\n",
        "Else block:this is code that will run if there are no errors.\n",
        "\n",
        "\n",
        "##Error in python:\n",
        "Syntax error: there are mistakes in your code's\n",
        "Exception:there are errors that happen while your program is running"
      ],
      "metadata": {
        "id": "BBqzQ93DQxfW"
      }
    },
    {
      "cell_type": "code",
      "source": [],
      "metadata": {
        "id": "ivKm6abi2LGc"
      },
      "execution_count": null,
      "outputs": []
    },
    {
      "cell_type": "markdown",
      "source": [
        "# 84 how many except statement can a try-except block have?name some built in exception classes."
      ],
      "metadata": {
        "id": "Q3UNLth92Lks"
      }
    },
    {
      "cell_type": "markdown",
      "source": [
        "Number of except Statement:\n",
        "                A try-except block in python can have multiple except statements to handle different types of exception.\n",
        "Built-in exception classes:\n",
        "\n",
        "1.Exception:the base class for all exceptions.\n",
        "\n",
        "2.ArithmetricError:the base class for error occurring during numeric calculations.\n",
        "\n",
        "3.ZeroDivisionError:Raise when division by zero occurs.\n",
        "\n",
        "4.ValueError:raised when a function receives an argument of the correct type but an inappropriate value\n",
        "\n",
        "5.TypeError: raised when an operation or function is applied to an object of inappropriate type.\n",
        "\n",
        "6.KeyError: raised when a dictionary key is not found\n"
      ],
      "metadata": {
        "id": "NFItoYiXTTza"
      }
    },
    {
      "cell_type": "markdown",
      "source": [
        "#85 when will the else part of try-except-else be executed?"
      ],
      "metadata": {
        "id": "9ayO7e8E2mbn"
      }
    },
    {
      "cell_type": "code",
      "source": [
        "try:\n",
        "  num=int(input(\"enter a num:\"))\n",
        "  result=10/num\n",
        "except ValueError:\n",
        "  print(\"ValueError:please enter a valid integer.\")\n",
        "except ZeroDivisionError:\n",
        "  print(\"ZeroDivisionError:Division by zero is not allowed.\")\n",
        "else:\n",
        "  print(f\"result is{result}.\")\n",
        "finally:\n",
        "  print(\"execution of the'finally'block.\")\n"
      ],
      "metadata": {
        "id": "J9kWIvEn22DQ",
        "colab": {
          "base_uri": "https://localhost:8080/"
        },
        "outputId": "50c557ea-1b62-45de-b877-6d65840779fe"
      },
      "execution_count": null,
      "outputs": [
        {
          "output_type": "stream",
          "name": "stdout",
          "text": [
            "enter a num:20\n",
            "result is0.5.\n",
            "execution of the'finally'block.\n"
          ]
        }
      ]
    },
    {
      "cell_type": "markdown",
      "source": [
        "#86 can one block of except statement handle multiple exception?"
      ],
      "metadata": {
        "id": "m3h3z1Dq22pV"
      }
    },
    {
      "cell_type": "markdown",
      "source": [
        "Yes, a singh except block can handle multiple exceptions in python"
      ],
      "metadata": {
        "id": "vPqxBFbvV8zI"
      }
    },
    {
      "cell_type": "code",
      "source": [
        "try:\n",
        "  #code that might raise exceptions\n",
        "  result=10/int(input(\"enter a number\"))\n",
        "except(ValueError,ZeroDivisionError) as e:\n",
        "  print(f\"an error occurred:{e}\")"
      ],
      "metadata": {
        "id": "6gJf18FR3IxJ",
        "colab": {
          "base_uri": "https://localhost:8080/"
        },
        "outputId": "42d122a1-7cfa-40f6-bca5-177efd7595bc"
      },
      "execution_count": null,
      "outputs": [
        {
          "name": "stdout",
          "output_type": "stream",
          "text": [
            "enter a number5\n"
          ]
        }
      ]
    },
    {
      "cell_type": "markdown",
      "source": [
        "#87 when is the finally block executed?"
      ],
      "metadata": {
        "id": "3-E-xTYQ3JLv"
      }
    },
    {
      "cell_type": "markdown",
      "source": [
        "the finally block is always executed,whether an exception occurs or not"
      ],
      "metadata": {
        "id": "MbvsqCd2XRq4"
      }
    },
    {
      "cell_type": "code",
      "source": [
        "try:\n",
        "   num=int(input(\"enter a num:\"))\n",
        "   result=10/num\n",
        "   print(f\"result:{result}\")\n",
        "except ZeroDivisionError:\n",
        "   print(\"error:division by zero.\")\n",
        "except ValueError:\n",
        "   print(\"error:invalid value.\")\n",
        "finally:\n",
        "   print(\"this message always prints,no matter what.\")\n",
        "\n",
        "\n"
      ],
      "metadata": {
        "id": "No0gMiCc3TRT",
        "colab": {
          "base_uri": "https://localhost:8080/"
        },
        "outputId": "8d58f540-4f80-4b47-d892-f98701e096ed"
      },
      "execution_count": null,
      "outputs": [
        {
          "output_type": "stream",
          "name": "stdout",
          "text": [
            "enter a num:10\n",
            "result:1.0\n",
            "this message always prints,no matter what.\n"
          ]
        }
      ]
    },
    {
      "cell_type": "markdown",
      "source": [
        "#88 what happens when,,l\"==l is executed?"
      ],
      "metadata": {
        "id": "bpESfNT_3UG7"
      }
    },
    {
      "cell_type": "markdown",
      "source": [
        "when\"l\"==\"l\" is executed in python, it evaluates whether the string on the left side(\"l\") is equal to the string on the right side(\"l\").since both string are identical,the expression will evaluate to True"
      ],
      "metadata": {
        "id": "TM0hIRtpZ2Ua"
      }
    },
    {
      "cell_type": "code",
      "source": [
        "result=\"l\"==\"l\"\n",
        "print(result)"
      ],
      "metadata": {
        "id": "C-Tsw-dE3g1N",
        "colab": {
          "base_uri": "https://localhost:8080/"
        },
        "outputId": "f8bf1aee-10de-4fd1-c4fc-764ba07762a1"
      },
      "execution_count": null,
      "outputs": [
        {
          "output_type": "stream",
          "name": "stdout",
          "text": [
            "True\n"
          ]
        }
      ]
    },
    {
      "cell_type": "markdown",
      "source": [
        "# 89 how do you handle exceptions with try/except/finally in python?\n",
        "expain with coding snippets"
      ],
      "metadata": {
        "id": "-K7fr9Hn3hnf"
      }
    },
    {
      "cell_type": "code",
      "source": [
        "try:\n",
        "  num=int(input(\"enter a num:\"))\n",
        "  result=10/num\n",
        "  print(f\"result:{result}\")\n",
        "except ValueError as ve:\n",
        "  print(f\"ValueError occurred:{ve}\")\n",
        "except ZeroDivisionError as zde:\n",
        "  print(f\"ZeroDivisionError occurred:{zde}\")\n",
        "finally:\n",
        "  print(\"execution of the 'finally'block.\")\n",
        "print(\"program continues...\")"
      ],
      "metadata": {
        "id": "1XFsIn-N35uq",
        "colab": {
          "base_uri": "https://localhost:8080/"
        },
        "outputId": "3171e296-8e3c-46ea-a845-09e9b9ab2db5"
      },
      "execution_count": null,
      "outputs": [
        {
          "output_type": "stream",
          "name": "stdout",
          "text": [
            "enter a num:25\n",
            "result:0.4\n",
            "execution of the 'finally'block.\n",
            "program continues...\n"
          ]
        }
      ]
    },
    {
      "cell_type": "markdown",
      "source": [
        "#90 write python program that user to enter only odd numbers,else will raise an exception"
      ],
      "metadata": {
        "id": "bnA8mUSw36id"
      }
    },
    {
      "cell_type": "code",
      "source": [
        "class EvenNumberException(Exception):\n",
        "  pass\n",
        "def get_odd_number():\n",
        "  try:\n",
        "     number=int(input(\"enter an odd number:\"))\n",
        "     if number%2==0:\n",
        "       raise EvenNumberException(f\"{number}is not an odd number.\")\n",
        "     print(f\"thank you!{number} is an odd number.\")\n",
        "  except EvenNumberException as e:\n",
        "    print(e)\n",
        "  except ValueError:\n",
        "    print(\"invalid input! please enter an integer.\")\n",
        "\n",
        "get_odd_number()"
      ],
      "metadata": {
        "id": "lfbtfH4o4KR8",
        "colab": {
          "base_uri": "https://localhost:8080/"
        },
        "outputId": "4dc6c057-ded4-4e4e-ae1d-ff089d2d6a5d"
      },
      "execution_count": null,
      "outputs": [
        {
          "output_type": "stream",
          "name": "stdout",
          "text": [
            "enter an odd number:55\n",
            "thank you!55 is an odd number.\n"
          ]
        }
      ]
    }
  ]
}